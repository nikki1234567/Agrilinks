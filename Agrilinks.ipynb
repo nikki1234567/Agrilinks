{
  "nbformat": 4,
  "nbformat_minor": 0,
  "metadata": {
    "colab": {
      "name": "Agrilinks.ipynb",
      "provenance": []
    },
    "kernelspec": {
      "name": "python3",
      "display_name": "Python 3"
    },
    "language_info": {
      "name": "python"
    }
  },
  "cells": [
    {
      "cell_type": "code",
      "metadata": {
        "id": "cmGwgQ0oIN5H"
      },
      "source": [
        "import pandas as pd\n",
        "\n"
      ],
      "execution_count": 2,
      "outputs": []
    },
    {
      "cell_type": "code",
      "metadata": {
        "id": "uSPKNOSzIeuG"
      },
      "source": [
        "df  = pd.read_excel('AgriData.xlsx')"
      ],
      "execution_count": 10,
      "outputs": []
    },
    {
      "cell_type": "code",
      "metadata": {
        "colab": {
          "base_uri": "https://localhost:8080/",
          "height": 296
        },
        "id": "TqHd_NIlIi5i",
        "outputId": "2061be3e-5623-4e91-ee91-20188304250f"
      },
      "source": [
        "df.head()"
      ],
      "execution_count": 11,
      "outputs": [
        {
          "output_type": "execute_result",
          "data": {
            "text/html": [
              "<div>\n",
              "<style scoped>\n",
              "    .dataframe tbody tr th:only-of-type {\n",
              "        vertical-align: middle;\n",
              "    }\n",
              "\n",
              "    .dataframe tbody tr th {\n",
              "        vertical-align: top;\n",
              "    }\n",
              "\n",
              "    .dataframe thead th {\n",
              "        text-align: right;\n",
              "    }\n",
              "</style>\n",
              "<table border=\"1\" class=\"dataframe\">\n",
              "  <thead>\n",
              "    <tr style=\"text-align: right;\">\n",
              "      <th></th>\n",
              "      <th>Sl no.</th>\n",
              "      <th>District Name</th>\n",
              "      <th>Market Name</th>\n",
              "      <th>Commodity</th>\n",
              "      <th>Variety</th>\n",
              "      <th>Grade</th>\n",
              "      <th>Min Price (Rs./Quintal)</th>\n",
              "      <th>Max Price (Rs./Quintal)</th>\n",
              "      <th>Modal Price (Rs./Quintal)</th>\n",
              "      <th>Price Date</th>\n",
              "    </tr>\n",
              "  </thead>\n",
              "  <tbody>\n",
              "    <tr>\n",
              "      <th>0</th>\n",
              "      <td>1</td>\n",
              "      <td>Agra</td>\n",
              "      <td>Achnera</td>\n",
              "      <td>Potato</td>\n",
              "      <td>Desi</td>\n",
              "      <td>FAQ</td>\n",
              "      <td>900</td>\n",
              "      <td>1000</td>\n",
              "      <td>950</td>\n",
              "      <td>2020-12-30</td>\n",
              "    </tr>\n",
              "    <tr>\n",
              "      <th>1</th>\n",
              "      <td>2</td>\n",
              "      <td>Agra</td>\n",
              "      <td>Achnera</td>\n",
              "      <td>Potato</td>\n",
              "      <td>Desi</td>\n",
              "      <td>FAQ</td>\n",
              "      <td>800</td>\n",
              "      <td>900</td>\n",
              "      <td>850</td>\n",
              "      <td>2020-12-29</td>\n",
              "    </tr>\n",
              "    <tr>\n",
              "      <th>2</th>\n",
              "      <td>3</td>\n",
              "      <td>Agra</td>\n",
              "      <td>Achnera</td>\n",
              "      <td>Potato</td>\n",
              "      <td>Desi</td>\n",
              "      <td>FAQ</td>\n",
              "      <td>850</td>\n",
              "      <td>950</td>\n",
              "      <td>900</td>\n",
              "      <td>2020-12-28</td>\n",
              "    </tr>\n",
              "    <tr>\n",
              "      <th>3</th>\n",
              "      <td>4</td>\n",
              "      <td>Agra</td>\n",
              "      <td>Achnera</td>\n",
              "      <td>Potato</td>\n",
              "      <td>Desi</td>\n",
              "      <td>FAQ</td>\n",
              "      <td>800</td>\n",
              "      <td>900</td>\n",
              "      <td>850</td>\n",
              "      <td>2020-12-27</td>\n",
              "    </tr>\n",
              "    <tr>\n",
              "      <th>4</th>\n",
              "      <td>5</td>\n",
              "      <td>Agra</td>\n",
              "      <td>Achnera</td>\n",
              "      <td>Potato</td>\n",
              "      <td>Desi</td>\n",
              "      <td>FAQ</td>\n",
              "      <td>800</td>\n",
              "      <td>900</td>\n",
              "      <td>850</td>\n",
              "      <td>2020-12-26</td>\n",
              "    </tr>\n",
              "  </tbody>\n",
              "</table>\n",
              "</div>"
            ],
            "text/plain": [
              "   Sl no. District Name  ... Modal Price (Rs./Quintal) Price Date\n",
              "0       1          Agra  ...                       950 2020-12-30\n",
              "1       2          Agra  ...                       850 2020-12-29\n",
              "2       3          Agra  ...                       900 2020-12-28\n",
              "3       4          Agra  ...                       850 2020-12-27\n",
              "4       5          Agra  ...                       850 2020-12-26\n",
              "\n",
              "[5 rows x 10 columns]"
            ]
          },
          "metadata": {
            "tags": []
          },
          "execution_count": 11
        }
      ]
    },
    {
      "cell_type": "code",
      "metadata": {
        "colab": {
          "base_uri": "https://localhost:8080/"
        },
        "id": "JqzeAkTzN0Wm",
        "outputId": "7c8ae848-09aa-4c75-b2bc-7027d5d09870"
      },
      "source": [
        "df.columns"
      ],
      "execution_count": 12,
      "outputs": [
        {
          "output_type": "execute_result",
          "data": {
            "text/plain": [
              "Index(['Sl no.', 'District Name', 'Market Name', 'Commodity', 'Variety',\n",
              "       'Grade', 'Min Price (Rs./Quintal)', 'Max Price (Rs./Quintal)',\n",
              "       'Modal Price (Rs./Quintal)', 'Price Date'],\n",
              "      dtype='object')"
            ]
          },
          "metadata": {
            "tags": []
          },
          "execution_count": 12
        }
      ]
    },
    {
      "cell_type": "markdown",
      "metadata": {
        "id": "aPC05E08nWnK"
      },
      "source": [
        "## Filter Data based on required parameters"
      ]
    },
    {
      "cell_type": "code",
      "metadata": {
        "id": "cwY-F8J2PDY3"
      },
      "source": [
        "df = df[(df['District Name']=='Agra') & (df['Commodity']=='Potato') & ((df['Price Date'] > '2020-01-01') & (df['Price Date'] < '2021-01-01'))]"
      ],
      "execution_count": 40,
      "outputs": []
    },
    {
      "cell_type": "code",
      "metadata": {
        "colab": {
          "base_uri": "https://localhost:8080/",
          "height": 586
        },
        "id": "mwJgOCCznUio",
        "outputId": "54bfc8ef-aa6e-4741-8253-f8e06225f87d"
      },
      "source": [
        "df"
      ],
      "execution_count": 41,
      "outputs": [
        {
          "output_type": "execute_result",
          "data": {
            "text/html": [
              "<div>\n",
              "<style scoped>\n",
              "    .dataframe tbody tr th:only-of-type {\n",
              "        vertical-align: middle;\n",
              "    }\n",
              "\n",
              "    .dataframe tbody tr th {\n",
              "        vertical-align: top;\n",
              "    }\n",
              "\n",
              "    .dataframe thead th {\n",
              "        text-align: right;\n",
              "    }\n",
              "</style>\n",
              "<table border=\"1\" class=\"dataframe\">\n",
              "  <thead>\n",
              "    <tr style=\"text-align: right;\">\n",
              "      <th></th>\n",
              "      <th>Sl no.</th>\n",
              "      <th>District Name</th>\n",
              "      <th>Market Name</th>\n",
              "      <th>Commodity</th>\n",
              "      <th>Variety</th>\n",
              "      <th>Grade</th>\n",
              "      <th>Min Price (Rs./Quintal)</th>\n",
              "      <th>Max Price (Rs./Quintal)</th>\n",
              "      <th>Modal Price (Rs./Quintal)</th>\n",
              "      <th>Price Date</th>\n",
              "    </tr>\n",
              "  </thead>\n",
              "  <tbody>\n",
              "    <tr>\n",
              "      <th>0</th>\n",
              "      <td>1</td>\n",
              "      <td>Agra</td>\n",
              "      <td>Achnera</td>\n",
              "      <td>Potato</td>\n",
              "      <td>Desi</td>\n",
              "      <td>FAQ</td>\n",
              "      <td>900</td>\n",
              "      <td>1000</td>\n",
              "      <td>950</td>\n",
              "      <td>2020-12-30</td>\n",
              "    </tr>\n",
              "    <tr>\n",
              "      <th>1</th>\n",
              "      <td>2</td>\n",
              "      <td>Agra</td>\n",
              "      <td>Achnera</td>\n",
              "      <td>Potato</td>\n",
              "      <td>Desi</td>\n",
              "      <td>FAQ</td>\n",
              "      <td>800</td>\n",
              "      <td>900</td>\n",
              "      <td>850</td>\n",
              "      <td>2020-12-29</td>\n",
              "    </tr>\n",
              "    <tr>\n",
              "      <th>2</th>\n",
              "      <td>3</td>\n",
              "      <td>Agra</td>\n",
              "      <td>Achnera</td>\n",
              "      <td>Potato</td>\n",
              "      <td>Desi</td>\n",
              "      <td>FAQ</td>\n",
              "      <td>850</td>\n",
              "      <td>950</td>\n",
              "      <td>900</td>\n",
              "      <td>2020-12-28</td>\n",
              "    </tr>\n",
              "    <tr>\n",
              "      <th>3</th>\n",
              "      <td>4</td>\n",
              "      <td>Agra</td>\n",
              "      <td>Achnera</td>\n",
              "      <td>Potato</td>\n",
              "      <td>Desi</td>\n",
              "      <td>FAQ</td>\n",
              "      <td>800</td>\n",
              "      <td>900</td>\n",
              "      <td>850</td>\n",
              "      <td>2020-12-27</td>\n",
              "    </tr>\n",
              "    <tr>\n",
              "      <th>4</th>\n",
              "      <td>5</td>\n",
              "      <td>Agra</td>\n",
              "      <td>Achnera</td>\n",
              "      <td>Potato</td>\n",
              "      <td>Desi</td>\n",
              "      <td>FAQ</td>\n",
              "      <td>800</td>\n",
              "      <td>900</td>\n",
              "      <td>850</td>\n",
              "      <td>2020-12-26</td>\n",
              "    </tr>\n",
              "    <tr>\n",
              "      <th>...</th>\n",
              "      <td>...</td>\n",
              "      <td>...</td>\n",
              "      <td>...</td>\n",
              "      <td>...</td>\n",
              "      <td>...</td>\n",
              "      <td>...</td>\n",
              "      <td>...</td>\n",
              "      <td>...</td>\n",
              "      <td>...</td>\n",
              "      <td>...</td>\n",
              "    </tr>\n",
              "    <tr>\n",
              "      <th>1821</th>\n",
              "      <td>1822</td>\n",
              "      <td>Agra</td>\n",
              "      <td>Samsabad</td>\n",
              "      <td>Potato</td>\n",
              "      <td>Local</td>\n",
              "      <td>FAQ</td>\n",
              "      <td>1000</td>\n",
              "      <td>1300</td>\n",
              "      <td>1100</td>\n",
              "      <td>2020-01-07</td>\n",
              "    </tr>\n",
              "    <tr>\n",
              "      <th>1822</th>\n",
              "      <td>1823</td>\n",
              "      <td>Agra</td>\n",
              "      <td>Samsabad</td>\n",
              "      <td>Potato</td>\n",
              "      <td>Local</td>\n",
              "      <td>FAQ</td>\n",
              "      <td>1000</td>\n",
              "      <td>1200</td>\n",
              "      <td>1100</td>\n",
              "      <td>2020-01-06</td>\n",
              "    </tr>\n",
              "    <tr>\n",
              "      <th>1823</th>\n",
              "      <td>1824</td>\n",
              "      <td>Agra</td>\n",
              "      <td>Samsabad</td>\n",
              "      <td>Potato</td>\n",
              "      <td>Local</td>\n",
              "      <td>FAQ</td>\n",
              "      <td>1000</td>\n",
              "      <td>1200</td>\n",
              "      <td>1100</td>\n",
              "      <td>2020-01-05</td>\n",
              "    </tr>\n",
              "    <tr>\n",
              "      <th>1824</th>\n",
              "      <td>1825</td>\n",
              "      <td>Agra</td>\n",
              "      <td>Samsabad</td>\n",
              "      <td>Potato</td>\n",
              "      <td>Local</td>\n",
              "      <td>FAQ</td>\n",
              "      <td>1100</td>\n",
              "      <td>1300</td>\n",
              "      <td>1200</td>\n",
              "      <td>2020-01-04</td>\n",
              "    </tr>\n",
              "    <tr>\n",
              "      <th>1825</th>\n",
              "      <td>1826</td>\n",
              "      <td>Agra</td>\n",
              "      <td>Samsabad</td>\n",
              "      <td>Potato</td>\n",
              "      <td>Local</td>\n",
              "      <td>FAQ</td>\n",
              "      <td>1100</td>\n",
              "      <td>1300</td>\n",
              "      <td>1200</td>\n",
              "      <td>2020-01-02</td>\n",
              "    </tr>\n",
              "  </tbody>\n",
              "</table>\n",
              "<p>1821 rows × 10 columns</p>\n",
              "</div>"
            ],
            "text/plain": [
              "      Sl no. District Name  ... Modal Price (Rs./Quintal) Price Date\n",
              "0          1          Agra  ...                       950 2020-12-30\n",
              "1          2          Agra  ...                       850 2020-12-29\n",
              "2          3          Agra  ...                       900 2020-12-28\n",
              "3          4          Agra  ...                       850 2020-12-27\n",
              "4          5          Agra  ...                       850 2020-12-26\n",
              "...      ...           ...  ...                       ...        ...\n",
              "1821    1822          Agra  ...                      1100 2020-01-07\n",
              "1822    1823          Agra  ...                      1100 2020-01-06\n",
              "1823    1824          Agra  ...                      1100 2020-01-05\n",
              "1824    1825          Agra  ...                      1200 2020-01-04\n",
              "1825    1826          Agra  ...                      1200 2020-01-02\n",
              "\n",
              "[1821 rows x 10 columns]"
            ]
          },
          "metadata": {
            "tags": []
          },
          "execution_count": 41
        }
      ]
    },
    {
      "cell_type": "code",
      "metadata": {
        "colab": {
          "base_uri": "https://localhost:8080/"
        },
        "id": "N_7VOFEVPGQX",
        "outputId": "26b94c58-ccc6-447a-8141-e33e5ffb9f8d"
      },
      "source": [
        "df['Modal Price (Rs./Quintal)'].mean()"
      ],
      "execution_count": 18,
      "outputs": [
        {
          "output_type": "execute_result",
          "data": {
            "text/plain": [
              "1474.3322386425834"
            ]
          },
          "metadata": {
            "tags": []
          },
          "execution_count": 18
        }
      ]
    },
    {
      "cell_type": "code",
      "metadata": {
        "colab": {
          "base_uri": "https://localhost:8080/"
        },
        "id": "mDm_5EtJoGKT",
        "outputId": "49464d4e-9972-4f1b-e2c8-6fac4cb8e4da"
      },
      "source": [
        "df['Variety'].value_counts()"
      ],
      "execution_count": 45,
      "outputs": [
        {
          "output_type": "execute_result",
          "data": {
            "text/plain": [
              "Desi      1363\n",
              "Local      456\n",
              "Potato       1\n",
              "Other        1\n",
              "Name: Variety, dtype: int64"
            ]
          },
          "metadata": {
            "tags": []
          },
          "execution_count": 45
        }
      ]
    },
    {
      "cell_type": "code",
      "metadata": {
        "colab": {
          "base_uri": "https://localhost:8080/"
        },
        "id": "tL3Jw2FIofn_",
        "outputId": "2e9992d1-59de-4861-f6db-8038dbed0a0c"
      },
      "source": [
        "df['Grade'].value_counts()"
      ],
      "execution_count": 46,
      "outputs": [
        {
          "output_type": "execute_result",
          "data": {
            "text/plain": [
              "FAQ    1821\n",
              "Name: Grade, dtype: int64"
            ]
          },
          "metadata": {
            "tags": []
          },
          "execution_count": 46
        }
      ]
    },
    {
      "cell_type": "markdown",
      "metadata": {
        "id": "VKI65a0qx7vv"
      },
      "source": [
        "## Mean Modal price for each Market Place"
      ]
    },
    {
      "cell_type": "code",
      "metadata": {
        "id": "_G5F2RtaIn1V"
      },
      "source": [
        "df_grouped = df.groupby('Market Name')['Modal Price (Rs./Quintal)'].mean()"
      ],
      "execution_count": 15,
      "outputs": []
    },
    {
      "cell_type": "code",
      "metadata": {
        "colab": {
          "base_uri": "https://localhost:8080/"
        },
        "id": "5vTahCXmN3nl",
        "outputId": "0e5418b4-e5f3-477c-e2a8-4157fe9733b1"
      },
      "source": [
        "df_grouped"
      ],
      "execution_count": 16,
      "outputs": [
        {
          "output_type": "execute_result",
          "data": {
            "text/plain": [
              "Market Name\n",
              "Achnera           1695.212418\n",
              "Agra              1716.614035\n",
              "Fatehabad         1385.387597\n",
              "Fatehpur Sikri    1737.344828\n",
              "Jagnair           1311.711230\n",
              "Jarar             1072.671233\n",
              "Khairagarh        1233.689840\n",
              "Samsabad          1141.517857\n",
              "Name: Modal Price (Rs./Quintal), dtype: float64"
            ]
          },
          "metadata": {
            "tags": []
          },
          "execution_count": 16
        }
      ]
    },
    {
      "cell_type": "markdown",
      "metadata": {
        "id": "rpxeReXoPRjZ"
      },
      "source": [
        "## Major Markets\n",
        "###### Lets consider Top 3 Markets having highest mean of model price(all year) as Major markets\n",
        "\n",
        "###### Fatehpur Sikri    1737.344828\n",
        "###### Agra              1716.614\n",
        "###### Achnera           1695.212"
      ]
    },
    {
      "cell_type": "markdown",
      "metadata": {
        "id": "atQZqruIlHsR"
      },
      "source": [
        "## Fatehpur Analysis"
      ]
    },
    {
      "cell_type": "code",
      "metadata": {
        "id": "drSAnvtaO4cL"
      },
      "source": [
        "df_fatehpur = df[df['Market Name']=='Fatehpur Sikri']"
      ],
      "execution_count": 20,
      "outputs": []
    },
    {
      "cell_type": "code",
      "metadata": {
        "id": "FbMm9ah4XDOQ"
      },
      "source": [
        "df_fatehpur=df_fatehpur.sort_values(by=\"Price Date\")"
      ],
      "execution_count": 23,
      "outputs": []
    },
    {
      "cell_type": "code",
      "metadata": {
        "id": "oCKWXWRiZd_k"
      },
      "source": [
        "col_modalprice = df_fatehpur['Modal Price (Rs./Quintal)']\n",
        "col_date = df_fatehpur['Price Date']"
      ],
      "execution_count": 28,
      "outputs": []
    },
    {
      "cell_type": "code",
      "metadata": {
        "colab": {
          "base_uri": "https://localhost:8080/",
          "height": 312
        },
        "id": "i4Y4SPUUZA4s",
        "outputId": "d1dc3591-2d29-4122-c6c9-3235afed6850"
      },
      "source": [
        "import matplotlib.pyplot as plt\n",
        "plt.plot(col_date,col_modalprice,'g--')\n",
        "plt.xlabel('Date')\n",
        "plt.ylabel('Modal Price')\n",
        "plt.title('Date vs Modal Price in Fatehpur Market')"
      ],
      "execution_count": 35,
      "outputs": [
        {
          "output_type": "execute_result",
          "data": {
            "text/plain": [
              "Text(0.5, 1.0, 'Date vs Modal Price in Fatehpur Market')"
            ]
          },
          "metadata": {
            "tags": []
          },
          "execution_count": 35
        },
        {
          "output_type": "display_data",
          "data": {
            "image/png": "[encoded data removed]",
            "text/plain": [
              "<Figure size 432x288 with 1 Axes>"
            ]
          },
          "metadata": {
            "tags": [],
            "needs_background": "light"
          }
        }
      ]
    },
    {
      "cell_type": "markdown",
      "metadata": {
        "id": "eman2kDelBZL"
      },
      "source": [
        "## Agra Analysis"
      ]
    },
    {
      "cell_type": "code",
      "metadata": {
        "id": "brjkZwHtZVzY"
      },
      "source": [
        "df_agra = df[df['Market Name']=='Agra']\n",
        "df_agra=df_agra.sort_values(by=\"Price Date\")\n",
        "col_modalprice = df_agra['Modal Price (Rs./Quintal)']\n",
        "col_date = df_agra['Price Date']\n",
        "\n"
      ],
      "execution_count": 31,
      "outputs": []
    },
    {
      "cell_type": "code",
      "metadata": {
        "colab": {
          "base_uri": "https://localhost:8080/",
          "height": 312
        },
        "id": "N4_2nCeJkCmg",
        "outputId": "ee3914a3-e88b-42cc-be58-2832da349730"
      },
      "source": [
        "plt.plot(col_date,col_modalprice,'g--')\n",
        "plt.xlabel('Date')\n",
        "plt.ylabel('Modal Price')\n",
        "plt.title('Date vs Modal Price in Agra Market')"
      ],
      "execution_count": 32,
      "outputs": [
        {
          "output_type": "execute_result",
          "data": {
            "text/plain": [
              "Text(0.5, 1.0, 'Date vs Modal Price in Agra Market')"
            ]
          },
          "metadata": {
            "tags": []
          },
          "execution_count": 32
        },
        {
          "output_type": "display_data",
          "data": {
            "image/png": "[encoded data removed]",
            "text/plain": [
              "<Figure size 432x288 with 1 Axes>"
            ]
          },
          "metadata": {
            "tags": [],
            "needs_background": "light"
          }
        }
      ]
    },
    {
      "cell_type": "markdown",
      "metadata": {
        "id": "qTE2cXbCk9NH"
      },
      "source": [
        "## Achnera Analysis"
      ]
    },
    {
      "cell_type": "code",
      "metadata": {
        "id": "kRr0g_4OkJ8N"
      },
      "source": [
        "df_achnera = df[df['Market Name']=='Achnera']\n",
        "df_achnera=df_achnera.sort_values(by=\"Price Date\")\n",
        "col_modalprice = df_achnera['Modal Price (Rs./Quintal)']\n",
        "col_date = df_achnera['Price Date']\n"
      ],
      "execution_count": 33,
      "outputs": []
    },
    {
      "cell_type": "code",
      "metadata": {
        "colab": {
          "base_uri": "https://localhost:8080/",
          "height": 312
        },
        "id": "0P35Sbq8k4Ro",
        "outputId": "378d1890-711e-4083-d5bc-154d21878f2f"
      },
      "source": [
        "plt.plot(col_date,col_modalprice,'g--')\n",
        "plt.xlabel('Date')\n",
        "plt.ylabel('Modal Price')\n",
        "plt.title('Date vs Modal Price in Achnera Market')"
      ],
      "execution_count": 36,
      "outputs": [
        {
          "output_type": "execute_result",
          "data": {
            "text/plain": [
              "Text(0.5, 1.0, 'Date vs Modal Price in Achnera Market')"
            ]
          },
          "metadata": {
            "tags": []
          },
          "execution_count": 36
        },
        {
          "output_type": "display_data",
          "data": {
            "image/png": "[encoded data removed]",
            "text/plain": [
              "<Figure size 432x288 with 1 Axes>"
            ]
          },
          "metadata": {
            "tags": [],
            "needs_background": "light"
          }
        }
      ]
    },
    {
      "cell_type": "code",
      "metadata": {
        "id": "qMa2cdick7Ht"
      },
      "source": [
        ""
      ],
      "execution_count": null,
      "outputs": []
    }
  ]
}